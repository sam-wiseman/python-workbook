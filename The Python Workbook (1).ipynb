{
 "cells": [
  {
   "cell_type": "code",
   "execution_count": 1,
   "metadata": {},
   "outputs": [
    {
     "name": "stdout",
     "output_type": "stream",
     "text": [
      "Sam Wiseman\n",
      "Buttmannstrasse 19\n",
      "13357 Berlin\n",
      "Germany\n"
     ]
    }
   ],
   "source": [
    "# 1. Mailing address\n",
    "\n",
    "print(\"Sam Wiseman\\nButtmannstrasse 19\\n13357 Berlin\\nGermany\")"
   ]
  },
  {
   "cell_type": "code",
   "execution_count": 2,
   "metadata": {},
   "outputs": [
    {
     "name": "stdout",
     "output_type": "stream",
     "text": [
      "Please enter your name. \n",
      "Hello,  !\n"
     ]
    }
   ],
   "source": [
    "# 2. Hello\n",
    "\n",
    "name = input(\"Please enter your name. \")\n",
    "print(\"Hello, \" + name + \" !\")"
   ]
  },
  {
   "cell_type": "code",
   "execution_count": 3,
   "metadata": {},
   "outputs": [
    {
     "name": "stdout",
     "output_type": "stream",
     "text": [
      "Enter the width of the room in metres. 5\n",
      "Enter the length of the room in metres. 5\n",
      "The area of the room is 25.0 metres.\n"
     ]
    }
   ],
   "source": [
    "# 3. Area of a Room\n",
    "\n",
    "width = input(\"Enter the width of the room in metres. \")\n",
    "length = input(\"Enter the length of the room in metres. \")\n",
    "area = float(width) * float(length)\n",
    "print(\"The area of the room is \" + str(area) + \" metres.\")"
   ]
  },
  {
   "cell_type": "code",
   "execution_count": 4,
   "metadata": {},
   "outputs": [
    {
     "name": "stdout",
     "output_type": "stream",
     "text": [
      "Enter the width of the field in feet. 5\n",
      "Enter the length of the field in feet. 5\n",
      "The area of the field is 0.0 acres.\n"
     ]
    }
   ],
   "source": [
    "# 4. Area of a Field\n",
    "\n",
    "width = input(\"Enter the width of the field in feet. \")\n",
    "length = input(\"Enter the length of the field in feet. \")\n",
    "area = float(width) * float(length)\n",
    "acres = round((area / 43560),2)\n",
    "print(\"The area of the field is \" + str(acres) + \" acres.\")"
   ]
  },
  {
   "cell_type": "code",
   "execution_count": 5,
   "metadata": {},
   "outputs": [
    {
     "name": "stdout",
     "output_type": "stream",
     "text": [
      "Enter the number of small containers. 5\n",
      "Enter the number of large containers. 5\n",
      "Your total refund is $1.75\n"
     ]
    }
   ],
   "source": [
    "# 5. Bottle Deposits\n",
    "\n",
    "small = input(\"Enter the number of small containers. \")\n",
    "large = input(\"Enter the number of large containers. \")\n",
    "refund = (float(small) * 0.10) + (float(large) * 0.25)\n",
    "str_refund = \"{:.2f}\".format(refund)\n",
    "print(\"Your total refund is $\" + str_refund)"
   ]
  },
  {
   "cell_type": "code",
   "execution_count": 6,
   "metadata": {
    "scrolled": true
   },
   "outputs": [
    {
     "name": "stdout",
     "output_type": "stream",
     "text": [
      "How much did your meal cost before tax? 5\n",
      "Your tax is $1.00, your tip is $0.90, and the grand total is $6.90.\n"
     ]
    }
   ],
   "source": [
    "# 6. Tax and Tip\n",
    "\n",
    "price_str = input(\"How much did your meal cost before tax? \")\n",
    "price = float(price_str)\n",
    "tax = price * 0.2\n",
    "tip = price * 0.18\n",
    "total = price + tax + tip\n",
    "str_price = \"{:.2f}\".format(price)\n",
    "str_tax = \"{:.2f}\".format(tax)\n",
    "str_tip = \"{:.2f}\".format(tip)\n",
    "str_total = \"{:.2f}\".format(total)\n",
    "print(\"Your tax is $\" + str_tax + \", your tip is $\" + str_tip + \", and the grand total is $\" + str_total + \".\")"
   ]
  },
  {
   "cell_type": "code",
   "execution_count": 7,
   "metadata": {},
   "outputs": [
    {
     "name": "stdout",
     "output_type": "stream",
     "text": [
      "Please enter a number. 5\n",
      "The sum of the integers from 1 to 5 is 15.\n"
     ]
    }
   ],
   "source": [
    "# 7. Sum of the First n Positive Integers\n",
    "\n",
    "num_str = input(\"Please enter a number. \")\n",
    "num = int(num_str)\n",
    "newlist = []\n",
    "for x in range(num):\n",
    "    y = x + 1\n",
    "    newlist.append(y)\n",
    "    z = sum(newlist)\n",
    "print(\"The sum of the integers from 1 to \" + num_str + \" is \" + str(z) + \".\")"
   ]
  },
  {
   "cell_type": "code",
   "execution_count": 8,
   "metadata": {},
   "outputs": [
    {
     "name": "stdout",
     "output_type": "stream",
     "text": [
      "Please enter a number. 5\n",
      "The sum of the integers from 1 to 5 is 15.\n"
     ]
    }
   ],
   "source": [
    "# 7. (Book solution)\n",
    "\n",
    "n = int(input(\"Please enter a number. \"))\n",
    "sm = round(n * (n + 1) / 2)\n",
    "print(\"The sum of the integers from 1 to \" + str(n) + \" is \" + str(sm) + \".\")"
   ]
  },
  {
   "cell_type": "code",
   "execution_count": 9,
   "metadata": {},
   "outputs": [
    {
     "name": "stdout",
     "output_type": "stream",
     "text": [
      "Enter the number of widgets. 5\n",
      "Enter the number of gizmos. 5\n",
      "The total weight is 935 grams, or 9.35 kilos.\n"
     ]
    }
   ],
   "source": [
    "# 8. Widgets and Gizmos\n",
    "\n",
    "widget = int(input(\"Enter the number of widgets. \"))\n",
    "gizmo = int(input(\"Enter the number of gizmos. \"))\n",
    "total = (widget * 75) + (gizmo * 112)\n",
    "print(\"The total weight is \" + str(total) + \" grams, or \" + str(total/100) + \" kilos.\")"
   ]
  },
  {
   "cell_type": "code",
   "execution_count": 10,
   "metadata": {},
   "outputs": [
    {
     "name": "stdout",
     "output_type": "stream",
     "text": [
      "Enter the amount you wish to deposit. 5\n",
      "The total sum after one year will be 5.20, after two years, 5.40 and after three, 5.60.\n"
     ]
    }
   ],
   "source": [
    "# 9. Compound Interest\n",
    "\n",
    "deposit = int(input(\"Enter the amount you wish to deposit. \"))\n",
    "one_year = round(deposit * 1.04, 2)\n",
    "two_year = round(deposit * 1.08, 2)\n",
    "three_year = round(deposit * 1.12,2)\n",
    "print(\"The total sum after one year will be \" + \"{:.2f}\".format(one_year) + \", after two years, \" + \"{:.2f}\".format(two_year) + \" and after three, \"\n",
    "+ \"{:.2f}\".format(three_year) + \".\")"
   ]
  },
  {
   "cell_type": "code",
   "execution_count": 11,
   "metadata": {},
   "outputs": [
    {
     "name": "stdout",
     "output_type": "stream",
     "text": [
      "Enter the first number. 5\n",
      "Enter the second number. 5\n",
      "The sum of 5 and 5 is 10.\n",
      "5 minus 5 is 0.\n",
      "5 multiplied by 5 is 25.\n",
      "5 divided by 5 is 1.0.\n",
      "The base-10 logarithm of 5 is 0.7.\n",
      "5 to the power of 5 is 3125.\n"
     ]
    }
   ],
   "source": [
    "# 10. Arithmetic\n",
    "\n",
    "import math\n",
    "\n",
    "a = int(input(\"Enter the first number. \"))\n",
    "b = int(input(\"Enter the second number. \"))\n",
    "print(\"The sum of \" + str(a) + \" and \" + str(b) + \" is \" + str(a + b) + \".\")\n",
    "print(str(a) + \" minus \" + str(b) + \" is \" + str(a - b) + \".\")\n",
    "print(str(a) + \" multiplied by \" + str(b) + \" is \" + str(a * b) + \".\")\n",
    "print(str(a) + \" divided by \" + str(b) + \" is \" + str(round(a / b, 2)) + \".\")\n",
    "print(\"The base-10 logarithm of \" + str(a) + \" is \" + str(round(math.log10(a), 2)) + \".\")\n",
    "print(str(a) + \" to the power of \" + str(b) + \" is \" + str(a ** b) + \".\")"
   ]
  },
  {
   "cell_type": "code",
   "execution_count": 12,
   "metadata": {
    "scrolled": true
   },
   "outputs": [
    {
     "name": "stdout",
     "output_type": "stream",
     "text": [
      "Enter the MPG. 5\n",
      "The equivalent fuel efficiency in l/km is 47.04.\n"
     ]
    }
   ],
   "source": [
    "# 11. Fuel Efficiency\n",
    "\n",
    "a = int(input(\"Enter the MPG. \"))\n",
    "print(\"The equivalent fuel efficiency in l/km is \" + str(round(235.214583 / a, 2)) + \".\")"
   ]
  },
  {
   "cell_type": "code",
   "execution_count": 13,
   "metadata": {},
   "outputs": [],
   "source": [
    "# 12. Distance Between Two Points on Earth\n",
    "\n"
   ]
  },
  {
   "cell_type": "code",
   "execution_count": 14,
   "metadata": {},
   "outputs": [
    {
     "name": "stdout",
     "output_type": "stream",
     "text": [
      "20\n",
      "10\n",
      "5\n",
      "2\n",
      "1\n"
     ]
    }
   ],
   "source": [
    "# 50, 20, 10, 5, 1, 2\n",
    "\n",
    "def change(x):\n",
    "    if x >= 50:\n",
    "        print(50)\n",
    "    elif x - 50 >= 20:\n",
    "        print(20)\n",
    "    elif x - 50 >= 10:\n",
    "        print(10)\n",
    "    elif x - 50 >= 5:\n",
    "        print(5)\n",
    "    elif x - 50 >= 2:\n",
    "        print(2)\n",
    "    elif x - 50 >= 1:\n",
    "        print(1)\n",
    "    elif x >= 20:\n",
    "        print(20)\n",
    "        if x -20 >= 10:\n",
    "            print(10)\n",
    "            if x -20 >= 5:\n",
    "                print(5)\n",
    "                if x -20 >= 2:\n",
    "                    print(2)\n",
    "                    if x -20 >= 1:\n",
    "                        print(1)\n",
    "    elif x >= 10:\n",
    "        print(10)\n",
    "        if x -10 >= 5:\n",
    "            print(5)\n",
    "            if x -10 >= 2:\n",
    "                print(2)\n",
    "                if x -10 >= 1:\n",
    "                    print(1)\n",
    "    elif x >= 5:\n",
    "        print(5)\n",
    "        if x -5 >= 2:\n",
    "            print(2)\n",
    "            if x -5 >= 1:\n",
    "                print(1)\n",
    "    elif x >= 2:\n",
    "        print(2)\n",
    "        if x -2 >= 1:\n",
    "            print(1)\n",
    "    elif x >= 1:\n",
    "        print(1)\n",
    "    else:\n",
    "        print(0)\n",
    "\n",
    "change(49)"
   ]
  },
  {
   "cell_type": "code",
   "execution_count": 15,
   "metadata": {},
   "outputs": [
    {
     "name": "stdout",
     "output_type": "stream",
     "text": [
      "Enter the number of feet. 5\n",
      "Enter the number of inches. 5\n",
      "Your height in cm is 165\n"
     ]
    }
   ],
   "source": [
    "# 14. Height Units\n",
    "\n",
    "a = int(input(\"Enter the number of feet. \"))\n",
    "b = int(input(\"Enter the number of inches. \"))\n",
    "total_inches = (a * 12) + b\n",
    "print(\"Your height in cm is \" + str(round(total_inches * 2.54)))"
   ]
  },
  {
   "cell_type": "code",
   "execution_count": 16,
   "metadata": {},
   "outputs": [
    {
     "name": "stdout",
     "output_type": "stream",
     "text": [
      "Enter the number of feet. 5\n",
      "5 feet is 60 inches, 1.67 yards, and 0.0 miles.\n"
     ]
    }
   ],
   "source": [
    "# 15. Distance Units\n",
    "\n",
    "a = int(input(\"Enter the number of feet. \"))\n",
    "print(str(a) + \" feet is \" + str(round(a * 12)) + \" inches, \" + str(round(a / 3,2)) + \" yards, and \" + str(round(a / 5280,2)) + \" miles.\")"
   ]
  },
  {
   "cell_type": "code",
   "execution_count": 34,
   "metadata": {},
   "outputs": [
    {
     "name": "stdout",
     "output_type": "stream",
     "text": [
      "Enter the radius in inches. 500\n",
      "A circle with a radius of 500 inches has an area of 785398.16 inches. A sphere with a radius of 500 inches has a volume of 523598775.6 inches.\n"
     ]
    }
   ],
   "source": [
    "# 16. Area and Volume\n",
    "\n",
    "import math\n",
    "\n",
    "#print(math.pi)\n",
    "\n",
    "a = int(input(\"Enter the radius in inches. \"))\n",
    "print(\"A circle with a radius of \" + str(a) + \" inches has an area of \" + str(round((a * a) * math.pi,2)) + \n",
    "      \" inches. A sphere with a radius of \" + str(a) + \" inches has a volume of \" + str(round((a * a * a) * (4/3) * math.pi,2)) + \n",
    "      \" inches.\")"
   ]
  },
  {
   "cell_type": "code",
   "execution_count": 24,
   "metadata": {
    "scrolled": true
   },
   "outputs": [
    {
     "name": "stdout",
     "output_type": "stream",
     "text": [
      "Enter the radius of the cylinder in inches. 26\n",
      "Enter the height of the cylinder in inches. 4\n",
      "The volume of the cylinder is 8494.9 inches.\n"
     ]
    }
   ],
   "source": [
    "# 18. Volume of a Cylinder\n",
    "\n",
    "import math\n",
    "\n",
    "a = int(input(\"Enter the radius of the cylinder in inches. \"))\n",
    "b = int(input(\"Enter the height of the cylinder in inches. \"))\n",
    "print(\"The volume of the cylinder is \" + str(round(((a * a) * math.pi) * b,1)) + \" inches.\")"
   ]
  },
  {
   "cell_type": "code",
   "execution_count": 29,
   "metadata": {},
   "outputs": [
    {
     "name": "stdout",
     "output_type": "stream",
     "text": [
      "Enter the length of the triangle base in cm. 7\n",
      "Enter the height of the triangle in cm. 8\n",
      "The area of the triangle is 28.0 cm.\n"
     ]
    }
   ],
   "source": [
    "# 21. Area of a Triangle\n",
    "\n",
    "b = int(input(\"Enter the length of the triangle base in cm. \"))\n",
    "h = int(input(\"Enter the height of the triangle in cm. \"))\n",
    "print(\"The area of the triangle is \" + str(round((b * h) / 2,1)) + \" cm.\")"
   ]
  },
  {
   "cell_type": "code",
   "execution_count": 39,
   "metadata": {},
   "outputs": [
    {
     "name": "stdout",
     "output_type": "stream",
     "text": [
      "Enter the length of side a in cm. 6\n",
      "Enter the length of side b in cm. 6\n",
      "Enter the length of side c in cm. 6\n",
      "The area of the triangle is 15.59 cm.\n"
     ]
    }
   ],
   "source": [
    "# 22. Area of a Triangle (Again)\n",
    "\n",
    "a = int(input(\"Enter the length of side a in cm. \"))\n",
    "b = int(input(\"Enter the length of side b in cm. \"))\n",
    "c = int(input(\"Enter the length of side c in cm. \"))\n",
    "d = ((a + b + c) / 2)\n",
    "print(\"The area of the triangle is \" + str(round(math.sqrt(d * (d - a) * (d - b) * (d - c)),2)) + \" cm.\")"
   ]
  },
  {
   "cell_type": "code",
   "execution_count": 43,
   "metadata": {},
   "outputs": [
    {
     "name": "stdout",
     "output_type": "stream",
     "text": [
      "Enter the number of days. 2\n",
      "Enter the number of hours. 0\n",
      "Enter the number of minutes. 0\n",
      "Enter the number of seconds. 3\n",
      "The total time in seconds is 172803.\n"
     ]
    }
   ],
   "source": [
    "# 24. Units of Time\n",
    "\n",
    "days = int(input(\"Enter the number of days. \"))\n",
    "hours = int(input(\"Enter the number of hours. \"))\n",
    "mins = int(input(\"Enter the number of minutes. \"))\n",
    "secs = int(input(\"Enter the number of seconds. \"))\n",
    "print(\"The total time in seconds is \" + str((days * 86400) + (hours * 3600) + (mins * 60) + secs) + \".\")"
   ]
  },
  {
   "cell_type": "code",
   "execution_count": 70,
   "metadata": {},
   "outputs": [
    {
     "name": "stdout",
     "output_type": "stream",
     "text": [
      "Current date and time: \n",
      "2020-10-11 13:49:25\n"
     ]
    }
   ],
   "source": [
    "# 26. Current Time\n",
    "\n",
    "import datetime\n",
    "now = datetime.datetime.now()\n",
    "print(\"Current date and time: \")\n",
    "print(now.strftime(\"%Y-%m-%d %H:%M:%S\"))"
   ]
  },
  {
   "cell_type": "code",
   "execution_count": 83,
   "metadata": {},
   "outputs": [
    {
     "name": "stdout",
     "output_type": "stream",
     "text": [
      "Enter integer 1. 45\n",
      "Enter integer 2. 23\n",
      "Enter integer 3. 78\n",
      "The inputted numbers in ascending order are 23, 45, 78.\n"
     ]
    }
   ],
   "source": [
    "# 32. Sort Three Integers\n",
    "\n",
    "a = int(input(\"Enter integer 1. \"))\n",
    "b = int(input(\"Enter integer 2. \"))\n",
    "c = int(input(\"Enter integer 3. \"))\n",
    "d = (a + b + c) - max(a, b, c) - min(a, b, c)\n",
    "print(\"The inputted numbers in ascending order are \" + str(min(a,b,c)) + \", \" + str(d) + \", \" + str(max(a,b,c)) + \".\")"
   ]
  },
  {
   "cell_type": "code",
   "execution_count": 123,
   "metadata": {},
   "outputs": [
    {
     "name": "stdout",
     "output_type": "stream",
     "text": [
      "Enter number of loaves being purchased. 2\n",
      "The regular price for these loaves is $6.98. The discount applied is $4.19. The discounted price is $2.79.\n"
     ]
    }
   ],
   "source": [
    "##### 33. Day Old Bread\n",
    "\n",
    "purchase_number = float(input(\"Enter number of loaves being purchased. \"))\n",
    "normal_price = (round(purchase_number * 3.49,2))\n",
    "discounted_price = (round(normal_price * 0.4,2))\n",
    "discount_amount = (round(normal_price - discounted_price,2))\n",
    "str_normal = \"{:.2f}\".format(normal_price)\n",
    "str_disc_price = \"{:.2f}\".format(discounted_price)\n",
    "str_disc_amount = \"{:.2f}\".format(discount_amount)\n",
    "print(\"The regular price for these loaves is $\" + str_normal + \". The discount applied is $\" + str_disc_amount + \". The discounted price is $\" + str_disc_price + \".\")"
   ]
  }
 ],
 "metadata": {
  "kernelspec": {
   "display_name": "Python 3",
   "language": "python",
   "name": "python3"
  },
  "language_info": {
   "codemirror_mode": {
    "name": "ipython",
    "version": 3
   },
   "file_extension": ".py",
   "mimetype": "text/x-python",
   "name": "python",
   "nbconvert_exporter": "python",
   "pygments_lexer": "ipython3",
   "version": "3.7.4"
  }
 },
 "nbformat": 4,
 "nbformat_minor": 2
}
