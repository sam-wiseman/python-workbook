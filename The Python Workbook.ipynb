{
 "cells": [
  {
   "cell_type": "code",
   "execution_count": 1,
   "metadata": {},
   "outputs": [
    {
     "name": "stdout",
     "output_type": "stream",
     "text": [
      "Sam Wiseman\n",
      "Buttmannstrasse 19\n",
      "13357 Berlin\n",
      "Germany\n"
     ]
    }
   ],
   "source": [
    "# 1. Mailing address\n",
    "\n",
    "print(\"Sam Wiseman\\nButtmannstrasse 19\\n13357 Berlin\\nGermany\")"
   ]
  },
  {
   "cell_type": "code",
   "execution_count": 2,
   "metadata": {},
   "outputs": [
    {
     "name": "stdout",
     "output_type": "stream",
     "text": [
      "Please enter your name.  s\n",
      "Hello,  s !\n"
     ]
    }
   ],
   "source": [
    "# 2. Hello\n",
    "\n",
    "name = input(\"Please enter your name. \")\n",
    "print(\"Hello, \" + name + \" !\")"
   ]
  },
  {
   "cell_type": "code",
   "execution_count": 3,
   "metadata": {},
   "outputs": [
    {
     "name": "stdout",
     "output_type": "stream",
     "text": [
      "Enter the width of the room in metres. 4\n",
      "Enter the length of the room in metres. 4\n",
      "The area of the room is 16.0 metres.\n"
     ]
    }
   ],
   "source": [
    "# 3. Area of a Room\n",
    "\n",
    "width = input(\"Enter the width of the room in metres. \")\n",
    "length = input(\"Enter the length of the room in metres. \")\n",
    "area = float(width) * float(length)\n",
    "print(\"The area of the room is \" + str(area) + \" metres.\")"
   ]
  },
  {
   "cell_type": "code",
   "execution_count": 4,
   "metadata": {},
   "outputs": [
    {
     "name": "stdout",
     "output_type": "stream",
     "text": [
      "Enter the width of the field in feet. 4\n",
      "Enter the length of the field in feet. 4\n",
      "The area of the field is 0.0 acres.\n"
     ]
    }
   ],
   "source": [
    "# 4. Area of a Field\n",
    "\n",
    "width = input(\"Enter the width of the field in feet. \")\n",
    "length = input(\"Enter the length of the field in feet. \")\n",
    "area = float(width) * float(length)\n",
    "acres = round((area / 43560),2)\n",
    "print(\"The area of the field is \" + str(acres) + \" acres.\")"
   ]
  },
  {
   "cell_type": "code",
   "execution_count": 2,
   "metadata": {},
   "outputs": [
    {
     "name": "stdout",
     "output_type": "stream",
     "text": [
      "Enter the number of small containers. 4\n",
      "Enter the number of large containers. 4\n",
      "Your total refund is $1.40\n"
     ]
    }
   ],
   "source": [
    "# 5. Bottle Deposits\n",
    "\n",
    "small = input(\"Enter the number of small containers. \")\n",
    "large = input(\"Enter the number of large containers. \")\n",
    "refund = (float(small) * 0.10) + (float(large) * 0.25)\n",
    "str_refund = \"{:.2f}\".format(refund)\n",
    "print(\"Your total refund is $\" + str_refund)"
   ]
  },
  {
   "cell_type": "code",
   "execution_count": 6,
   "metadata": {
    "scrolled": true
   },
   "outputs": [
    {
     "name": "stdout",
     "output_type": "stream",
     "text": [
      "How much did your meal cost before tax? 4\n",
      "Your tax is $0.80, your tip is $0.72, and the grand total is $5.52.\n"
     ]
    }
   ],
   "source": [
    "# 6. Tax and Tip\n",
    "\n",
    "price_str = input(\"How much did your meal cost before tax? \")\n",
    "price = float(price_str)\n",
    "tax = price * 0.2\n",
    "tip = price * 0.18\n",
    "total = price + tax + tip\n",
    "str_price = \"{:.2f}\".format(price)\n",
    "str_tax = \"{:.2f}\".format(tax)\n",
    "str_tip = \"{:.2f}\".format(tip)\n",
    "str_total = \"{:.2f}\".format(total)\n",
    "print(\"Your tax is $\" + str_tax + \", your tip is $\" + str_tip + \", and the grand total is $\" + str_total + \".\")"
   ]
  },
  {
   "cell_type": "code",
   "execution_count": 7,
   "metadata": {},
   "outputs": [
    {
     "name": "stdout",
     "output_type": "stream",
     "text": [
      "Please enter a number. 4\n",
      "The sum of the integers from 1 to 4 is 10.\n"
     ]
    }
   ],
   "source": [
    "# 7. Sum of the First n Positive Integers\n",
    "\n",
    "num_str = input(\"Please enter a number. \")\n",
    "num = int(num_str)\n",
    "newlist = []\n",
    "for x in range(num):\n",
    "    y = x + 1\n",
    "    newlist.append(y)\n",
    "    z = sum(newlist)\n",
    "print(\"The sum of the integers from 1 to \" + num_str + \" is \" + str(z) + \".\")"
   ]
  },
  {
   "cell_type": "code",
   "execution_count": 8,
   "metadata": {},
   "outputs": [
    {
     "name": "stdout",
     "output_type": "stream",
     "text": [
      "Please enter a number. 4\n",
      "The sum of the integers from 1 to 4 is 10.\n"
     ]
    }
   ],
   "source": [
    "# 7. (Book solution)\n",
    "\n",
    "n = int(input(\"Please enter a number. \"))\n",
    "sm = round(n * (n + 1) / 2)\n",
    "print(\"The sum of the integers from 1 to \" + str(n) + \" is \" + str(sm) + \".\")"
   ]
  },
  {
   "cell_type": "code",
   "execution_count": 9,
   "metadata": {},
   "outputs": [
    {
     "name": "stdout",
     "output_type": "stream",
     "text": [
      "Enter the number of widgets. 4\n",
      "Enter the number of gizmos. 4\n",
      "The total weight is 748 grams, or 7.48 kilos.\n"
     ]
    }
   ],
   "source": [
    "# 8. Widgets and Gizmos\n",
    "\n",
    "widget = int(input(\"Enter the number of widgets. \"))\n",
    "gizmo = int(input(\"Enter the number of gizmos. \"))\n",
    "total = (widget * 75) + (gizmo * 112)\n",
    "print(\"The total weight is \" + str(total) + \" grams, or \" + str(total/100) + \" kilos.\")"
   ]
  },
  {
   "cell_type": "code",
   "execution_count": 10,
   "metadata": {},
   "outputs": [
    {
     "name": "stdout",
     "output_type": "stream",
     "text": [
      "Enter the amount you wish to deposit. 4\n",
      "The total sum after one year will be 4.16, after two years, 4.32 and after three, 4.48.\n"
     ]
    }
   ],
   "source": [
    "# 9. Compound Interest\n",
    "\n",
    "deposit = int(input(\"Enter the amount you wish to deposit. \"))\n",
    "one_year = round(deposit * 1.04, 2)\n",
    "two_year = round(deposit * 1.08, 2)\n",
    "three_year = round(deposit * 1.12,2)\n",
    "print(\"The total sum after one year will be \" + \"{:.2f}\".format(one_year) + \", after two years, \" + \"{:.2f}\".format(two_year) + \" and after three, \"\n",
    "+ \"{:.2f}\".format(three_year) + \".\")"
   ]
  },
  {
   "cell_type": "code",
   "execution_count": 11,
   "metadata": {},
   "outputs": [
    {
     "name": "stdout",
     "output_type": "stream",
     "text": [
      "Enter the first number. 4\n",
      "Enter the second number. 4\n",
      "The sum of 4 and 4 is 8.\n",
      "4 minus 4 is 0.\n",
      "4 multiplied by 4 is 16.\n",
      "4 divided by 4 is 1.0.\n",
      "The base-10 logarithm of 4 is 0.6.\n",
      "4 to the power of 4 is 256.\n"
     ]
    }
   ],
   "source": [
    "# 10. Arithmetic\n",
    "\n",
    "import math\n",
    "\n",
    "a = int(input(\"Enter the first number. \"))\n",
    "b = int(input(\"Enter the second number. \"))\n",
    "print(\"The sum of \" + str(a) + \" and \" + str(b) + \" is \" + str(a + b) + \".\")\n",
    "print(str(a) + \" minus \" + str(b) + \" is \" + str(a - b) + \".\")\n",
    "print(str(a) + \" multiplied by \" + str(b) + \" is \" + str(a * b) + \".\")\n",
    "print(str(a) + \" divided by \" + str(b) + \" is \" + str(round(a / b, 2)) + \".\")\n",
    "print(\"The base-10 logarithm of \" + str(a) + \" is \" + str(round(math.log10(a), 2)) + \".\")\n",
    "print(str(a) + \" to the power of \" + str(b) + \" is \" + str(a ** b) + \".\")"
   ]
  },
  {
   "cell_type": "code",
   "execution_count": 12,
   "metadata": {
    "scrolled": true
   },
   "outputs": [
    {
     "name": "stdout",
     "output_type": "stream",
     "text": [
      "Enter the MPG. 4\n",
      "The equivalent fuel efficiency in l/km is 58.8.\n"
     ]
    }
   ],
   "source": [
    "# 11. Fuel Efficiency\n",
    "\n",
    "a = int(input(\"Enter the MPG. \"))\n",
    "print(\"The equivalent fuel efficiency in l/km is \" + str(round(235.214583 / a, 2)) + \".\")"
   ]
  },
  {
   "cell_type": "code",
   "execution_count": 13,
   "metadata": {},
   "outputs": [],
   "source": [
    "# 12. Distance Between Two Points on Earth\n",
    "\n"
   ]
  },
  {
   "cell_type": "code",
   "execution_count": 21,
   "metadata": {},
   "outputs": [
    {
     "name": "stdout",
     "output_type": "stream",
     "text": [
      "20\n",
      "10\n",
      "5\n",
      "2\n",
      "1\n"
     ]
    }
   ],
   "source": [
    "# 50, 20, 10, 5, 1, 2\n",
    "\n",
    "def change(x):\n",
    "    if x >= 50:\n",
    "        print(50)\n",
    "    elif x - 50 >= 20:\n",
    "        print(20)\n",
    "    elif x - 50 >= 10:\n",
    "        print(10)\n",
    "    elif x - 50 >= 5:\n",
    "        print(5)\n",
    "    elif x - 50 >= 2:\n",
    "        print(2)\n",
    "    elif x - 50 >= 1:\n",
    "        print(1)\n",
    "    elif x >= 20:\n",
    "        print(20)\n",
    "        if x -20 >= 10:\n",
    "            print(10)\n",
    "            if x -20 >= 5:\n",
    "                print(5)\n",
    "                if x -20 >= 2:\n",
    "                    print(2)\n",
    "                    if x -20 >= 1:\n",
    "                        print(1)\n",
    "    elif x >= 10:\n",
    "        print(10)\n",
    "        if x -10 >= 5:\n",
    "            print(5)\n",
    "            if x -10 >= 2:\n",
    "                print(2)\n",
    "                if x -10 >= 1:\n",
    "                    print(1)\n",
    "    elif x >= 5:\n",
    "        print(5)\n",
    "        if x -5 >= 2:\n",
    "            print(2)\n",
    "            if x -5 >= 1:\n",
    "                print(1)\n",
    "    elif x >= 2:\n",
    "        print(2)\n",
    "        if x -2 >= 1:\n",
    "            print(1)\n",
    "    elif x >= 1:\n",
    "        print(1)\n",
    "    else:\n",
    "        print(0)\n",
    "\n",
    "change(49)"
   ]
  },
  {
   "cell_type": "code",
   "execution_count": 12,
   "metadata": {},
   "outputs": [
    {
     "name": "stdout",
     "output_type": "stream",
     "text": [
      "Enter the number of feet. 5\n",
      "Enter the number of inches. 8\n",
      "Your height in cm is 173\n"
     ]
    }
   ],
   "source": [
    "# 14. Height Units\n",
    "\n",
    "a = int(input(\"Enter the number of feet. \"))\n",
    "b = int(input(\"Enter the number of inches. \"))\n",
    "total_inches = (a * 12) + b\n",
    "print(\"Your height in cm is \" + str(round(total_inches * 2.54)))"
   ]
  },
  {
   "cell_type": "code",
   "execution_count": 34,
   "metadata": {},
   "outputs": [
    {
     "name": "stdout",
     "output_type": "stream",
     "text": [
      "Enter the number of feet. 1000\n",
      "1000 feet is 12000 inches, 333.33 yards, and 0.19 miles.\n"
     ]
    }
   ],
   "source": [
    "# 15. Distance Units\n",
    "\n",
    "a = int(input(\"Enter the number of feet. \"))\n",
    "print(str(a) + \" feet is \" + str(round(a * 12)) + \" inches, \" + str(round(a / 3,2)) + \" yards, and \" + str(round(a / 5280,2)) + \" miles.\")"
   ]
  }
 ],
 "metadata": {
  "kernelspec": {
   "display_name": "Python 3",
   "language": "python",
   "name": "python3"
  },
  "language_info": {
   "codemirror_mode": {
    "name": "ipython",
    "version": 3
   },
   "file_extension": ".py",
   "mimetype": "text/x-python",
   "name": "python",
   "nbconvert_exporter": "python",
   "pygments_lexer": "ipython3",
   "version": "3.7.4"
  }
 },
 "nbformat": 4,
 "nbformat_minor": 2
}
