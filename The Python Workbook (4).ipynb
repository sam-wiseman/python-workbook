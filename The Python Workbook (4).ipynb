{
 "cells": [
  {
   "cell_type": "code",
   "execution_count": 1,
   "metadata": {},
   "outputs": [
    {
     "name": "stdout",
     "output_type": "stream",
     "text": [
      "Sam Wiseman\n",
      "Buttmannstrasse 19\n",
      "13357 Berlin\n",
      "Germany\n"
     ]
    }
   ],
   "source": [
    "# 1. Mailing address\n",
    "\n",
    "print(\"Sam Wiseman\\nButtmannstrasse 19\\n13357 Berlin\\nGermany\")"
   ]
  },
  {
   "cell_type": "code",
   "execution_count": 2,
   "metadata": {},
   "outputs": [
    {
     "name": "stdout",
     "output_type": "stream",
     "text": [
      "Please enter your name. sam\n",
      "Hello, sam !\n"
     ]
    }
   ],
   "source": [
    "# 2. Hello\n",
    "\n",
    "name = input(\"Please enter your name. \")\n",
    "print(\"Hello, \" + name + \" !\")"
   ]
  },
  {
   "cell_type": "code",
   "execution_count": 3,
   "metadata": {},
   "outputs": [
    {
     "name": "stdout",
     "output_type": "stream",
     "text": [
      "Enter the width of the room in metres. 4\n",
      "Enter the length of the room in metres. 4\n",
      "The area of the room is 16.0 metres.\n"
     ]
    }
   ],
   "source": [
    "# 3. Area of a Room\n",
    "\n",
    "width = input(\"Enter the width of the room in metres. \")\n",
    "length = input(\"Enter the length of the room in metres. \")\n",
    "area = float(width) * float(length)\n",
    "print(\"The area of the room is \" + str(area) + \" metres.\")"
   ]
  },
  {
   "cell_type": "code",
   "execution_count": 4,
   "metadata": {},
   "outputs": [
    {
     "name": "stdout",
     "output_type": "stream",
     "text": [
      "Enter the width of the field in feet. 4\n",
      "Enter the length of the field in feet. 4\n",
      "The area of the field is 0.0 acres.\n"
     ]
    }
   ],
   "source": [
    "# 4. Area of a Field\n",
    "\n",
    "width = input(\"Enter the width of the field in feet. \")\n",
    "length = input(\"Enter the length of the field in feet. \")\n",
    "area = float(width) * float(length)\n",
    "acres = round((area / 43560),2)\n",
    "print(\"The area of the field is \" + str(acres) + \" acres.\")"
   ]
  },
  {
   "cell_type": "code",
   "execution_count": 5,
   "metadata": {},
   "outputs": [
    {
     "name": "stdout",
     "output_type": "stream",
     "text": [
      "Enter the number of small containers. 4\n",
      "Enter the number of large containers. 4\n",
      "Your total refund is $1.40\n"
     ]
    }
   ],
   "source": [
    "# 5. Bottle Deposits\n",
    "\n",
    "small = input(\"Enter the number of small containers. \")\n",
    "large = input(\"Enter the number of large containers. \")\n",
    "refund = (float(small) * 0.10) + (float(large) * 0.25)\n",
    "str_refund = \"{:.2f}\".format(refund)\n",
    "print(\"Your total refund is $\" + str_refund)"
   ]
  },
  {
   "cell_type": "code",
   "execution_count": 6,
   "metadata": {
    "scrolled": true
   },
   "outputs": [
    {
     "name": "stdout",
     "output_type": "stream",
     "text": [
      "How much did your meal cost before tax? 4\n",
      "Your tax is $0.80, your tip is $0.72, and the grand total is $5.52.\n"
     ]
    }
   ],
   "source": [
    "# 6. Tax and Tip\n",
    "\n",
    "price_str = input(\"How much did your meal cost before tax? \")\n",
    "price = float(price_str)\n",
    "tax = price * 0.2\n",
    "tip = price * 0.18\n",
    "total = price + tax + tip\n",
    "str_price = \"{:.2f}\".format(price)\n",
    "str_tax = \"{:.2f}\".format(tax)\n",
    "str_tip = \"{:.2f}\".format(tip)\n",
    "str_total = \"{:.2f}\".format(total)\n",
    "print(\"Your tax is $\" + str_tax + \", your tip is $\" + str_tip + \", and the grand total is $\" + str_total + \".\")"
   ]
  },
  {
   "cell_type": "code",
   "execution_count": 7,
   "metadata": {},
   "outputs": [
    {
     "name": "stdout",
     "output_type": "stream",
     "text": [
      "Please enter a number. 4\n",
      "The sum of the integers from 1 to 4 is 10.\n"
     ]
    }
   ],
   "source": [
    "# 7. Sum of the First n Positive Integers\n",
    "\n",
    "num_str = input(\"Please enter a number. \")\n",
    "num = int(num_str)\n",
    "newlist = []\n",
    "for x in range(num):\n",
    "    y = x + 1\n",
    "    newlist.append(y)\n",
    "    z = sum(newlist)\n",
    "print(\"The sum of the integers from 1 to \" + num_str + \" is \" + str(z) + \".\")"
   ]
  },
  {
   "cell_type": "code",
   "execution_count": 8,
   "metadata": {},
   "outputs": [
    {
     "name": "stdout",
     "output_type": "stream",
     "text": [
      "Please enter a number. 4\n",
      "The sum of the integers from 1 to 4 is 10.\n"
     ]
    }
   ],
   "source": [
    "# 7. (Book solution)\n",
    "\n",
    "n = int(input(\"Please enter a number. \"))\n",
    "sm = round(n * (n + 1) / 2)\n",
    "print(\"The sum of the integers from 1 to \" + str(n) + \" is \" + str(sm) + \".\")"
   ]
  },
  {
   "cell_type": "code",
   "execution_count": 9,
   "metadata": {},
   "outputs": [
    {
     "name": "stdout",
     "output_type": "stream",
     "text": [
      "Enter the number of widgets. 4\n",
      "Enter the number of gizmos. 4\n",
      "The total weight is 748 grams, or 7.48 kilos.\n"
     ]
    }
   ],
   "source": [
    "# 8. Widgets and Gizmos\n",
    "\n",
    "widget = int(input(\"Enter the number of widgets. \"))\n",
    "gizmo = int(input(\"Enter the number of gizmos. \"))\n",
    "total = (widget * 75) + (gizmo * 112)\n",
    "print(\"The total weight is \" + str(total) + \" grams, or \" + str(total/100) + \" kilos.\")"
   ]
  },
  {
   "cell_type": "code",
   "execution_count": 10,
   "metadata": {},
   "outputs": [
    {
     "name": "stdout",
     "output_type": "stream",
     "text": [
      "Enter the amount you wish to deposit. 4\n",
      "The total sum after one year will be 4.16, after two years, 4.32 and after three, 4.48.\n"
     ]
    }
   ],
   "source": [
    "# 9. Compound Interest\n",
    "\n",
    "deposit = int(input(\"Enter the amount you wish to deposit. \"))\n",
    "one_year = round(deposit * 1.04, 2)\n",
    "two_year = round(deposit * 1.08, 2)\n",
    "three_year = round(deposit * 1.12,2)\n",
    "print(\"The total sum after one year will be \" + \"{:.2f}\".format(one_year) + \", after two years, \" + \"{:.2f}\".format(two_year) + \" and after three, \"\n",
    "+ \"{:.2f}\".format(three_year) + \".\")"
   ]
  },
  {
   "cell_type": "code",
   "execution_count": 11,
   "metadata": {},
   "outputs": [
    {
     "name": "stdout",
     "output_type": "stream",
     "text": [
      "Enter the first number. 4\n",
      "Enter the second number. 4\n",
      "The sum of 4 and 4 is 8.\n",
      "4 minus 4 is 0.\n",
      "4 multiplied by 4 is 16.\n",
      "4 divided by 4 is 1.0.\n",
      "The base-10 logarithm of 4 is 0.6.\n",
      "4 to the power of 4 is 256.\n"
     ]
    }
   ],
   "source": [
    "# 10. Arithmetic\n",
    "\n",
    "import math\n",
    "\n",
    "a = int(input(\"Enter the first number. \"))\n",
    "b = int(input(\"Enter the second number. \"))\n",
    "print(\"The sum of \" + str(a) + \" and \" + str(b) + \" is \" + str(a + b) + \".\")\n",
    "print(str(a) + \" minus \" + str(b) + \" is \" + str(a - b) + \".\")\n",
    "print(str(a) + \" multiplied by \" + str(b) + \" is \" + str(a * b) + \".\")\n",
    "print(str(a) + \" divided by \" + str(b) + \" is \" + str(round(a / b, 2)) + \".\")\n",
    "print(\"The base-10 logarithm of \" + str(a) + \" is \" + str(round(math.log10(a), 2)) + \".\")\n",
    "print(str(a) + \" to the power of \" + str(b) + \" is \" + str(a ** b) + \".\")"
   ]
  },
  {
   "cell_type": "code",
   "execution_count": 12,
   "metadata": {
    "scrolled": true
   },
   "outputs": [
    {
     "name": "stdout",
     "output_type": "stream",
     "text": [
      "Enter the MPG. 4\n",
      "The equivalent fuel efficiency in l/km is 58.8.\n"
     ]
    }
   ],
   "source": [
    "# 11. Fuel Efficiency\n",
    "\n",
    "a = int(input(\"Enter the MPG. \"))\n",
    "print(\"The equivalent fuel efficiency in l/km is \" + str(round(235.214583 / a, 2)) + \".\")"
   ]
  },
  {
   "cell_type": "code",
   "execution_count": 13,
   "metadata": {},
   "outputs": [],
   "source": [
    "# 12. Distance Between Two Points on Earth\n",
    "\n"
   ]
  },
  {
   "cell_type": "code",
   "execution_count": 14,
   "metadata": {},
   "outputs": [
    {
     "name": "stdout",
     "output_type": "stream",
     "text": [
      "20\n",
      "10\n",
      "5\n",
      "2\n",
      "1\n"
     ]
    }
   ],
   "source": [
    "# 50, 20, 10, 5, 1, 2\n",
    "\n",
    "def change(x):\n",
    "    if x >= 50:\n",
    "        print(50)\n",
    "    elif x - 50 >= 20:\n",
    "        print(20)\n",
    "    elif x - 50 >= 10:\n",
    "        print(10)\n",
    "    elif x - 50 >= 5:\n",
    "        print(5)\n",
    "    elif x - 50 >= 2:\n",
    "        print(2)\n",
    "    elif x - 50 >= 1:\n",
    "        print(1)\n",
    "    elif x >= 20:\n",
    "        print(20)\n",
    "        if x -20 >= 10:\n",
    "            print(10)\n",
    "            if x -20 >= 5:\n",
    "                print(5)\n",
    "                if x -20 >= 2:\n",
    "                    print(2)\n",
    "                    if x -20 >= 1:\n",
    "                        print(1)\n",
    "    elif x >= 10:\n",
    "        print(10)\n",
    "        if x -10 >= 5:\n",
    "            print(5)\n",
    "            if x -10 >= 2:\n",
    "                print(2)\n",
    "                if x -10 >= 1:\n",
    "                    print(1)\n",
    "    elif x >= 5:\n",
    "        print(5)\n",
    "        if x -5 >= 2:\n",
    "            print(2)\n",
    "            if x -5 >= 1:\n",
    "                print(1)\n",
    "    elif x >= 2:\n",
    "        print(2)\n",
    "        if x -2 >= 1:\n",
    "            print(1)\n",
    "    elif x >= 1:\n",
    "        print(1)\n",
    "    else:\n",
    "        print(0)\n",
    "\n",
    "change(49)"
   ]
  },
  {
   "cell_type": "code",
   "execution_count": 15,
   "metadata": {},
   "outputs": [
    {
     "name": "stdout",
     "output_type": "stream",
     "text": [
      "Enter the number of feet. 4\n",
      "Enter the number of inches. 4\n",
      "Your height in cm is 132\n"
     ]
    }
   ],
   "source": [
    "# 14. Height Units\n",
    "\n",
    "a = int(input(\"Enter the number of feet. \"))\n",
    "b = int(input(\"Enter the number of inches. \"))\n",
    "total_inches = (a * 12) + b\n",
    "print(\"Your height in cm is \" + str(round(total_inches * 2.54)))"
   ]
  },
  {
   "cell_type": "code",
   "execution_count": 16,
   "metadata": {},
   "outputs": [
    {
     "name": "stdout",
     "output_type": "stream",
     "text": [
      "Enter the number of feet. 4\n",
      "4 feet is 48 inches, 1.33 yards, and 0.0 miles.\n"
     ]
    }
   ],
   "source": [
    "# 15. Distance Units\n",
    "\n",
    "a = int(input(\"Enter the number of feet. \"))\n",
    "print(str(a) + \" feet is \" + str(round(a * 12)) + \" inches, \" + str(round(a / 3,2)) + \" yards, and \" + str(round(a / 5280,2)) + \" miles.\")"
   ]
  },
  {
   "cell_type": "code",
   "execution_count": 17,
   "metadata": {},
   "outputs": [
    {
     "name": "stdout",
     "output_type": "stream",
     "text": [
      "Enter the radius in inches. 4\n",
      "A circle with a radius of 4 inches has an area of 50.27 inches. A sphere with a radius of 4 inches has a volume of 268.08 inches.\n"
     ]
    }
   ],
   "source": [
    "# 16. Area and Volume\n",
    "\n",
    "import math\n",
    "\n",
    "#print(math.pi)\n",
    "\n",
    "a = int(input(\"Enter the radius in inches. \"))\n",
    "print(\"A circle with a radius of \" + str(a) + \" inches has an area of \" + str(round((a * a) * math.pi,2)) + \n",
    "      \" inches. A sphere with a radius of \" + str(a) + \" inches has a volume of \" + str(round((a * a * a) * (4/3) * math.pi,2)) + \n",
    "      \" inches.\")"
   ]
  },
  {
   "cell_type": "code",
   "execution_count": 18,
   "metadata": {
    "scrolled": true
   },
   "outputs": [
    {
     "name": "stdout",
     "output_type": "stream",
     "text": [
      "Enter the radius of the cylinder in inches. 4\n",
      "Enter the height of the cylinder in inches. 4\n",
      "The volume of the cylinder is 201.1 inches.\n"
     ]
    }
   ],
   "source": [
    "# 18. Volume of a Cylinder\n",
    "\n",
    "import math\n",
    "\n",
    "a = int(input(\"Enter the radius of the cylinder in inches. \"))\n",
    "b = int(input(\"Enter the height of the cylinder in inches. \"))\n",
    "print(\"The volume of the cylinder is \" + str(round(((a * a) * math.pi) * b,1)) + \" inches.\")"
   ]
  },
  {
   "cell_type": "code",
   "execution_count": 19,
   "metadata": {},
   "outputs": [
    {
     "name": "stdout",
     "output_type": "stream",
     "text": [
      "Enter the length of the triangle base in cm. 4\n",
      "Enter the height of the triangle in cm. 4\n",
      "The area of the triangle is 8.0 cm.\n"
     ]
    }
   ],
   "source": [
    "# 21. Area of a Triangle\n",
    "\n",
    "b = int(input(\"Enter the length of the triangle base in cm. \"))\n",
    "h = int(input(\"Enter the height of the triangle in cm. \"))\n",
    "print(\"The area of the triangle is \" + str(round((b * h) / 2,1)) + \" cm.\")"
   ]
  },
  {
   "cell_type": "code",
   "execution_count": 20,
   "metadata": {},
   "outputs": [
    {
     "name": "stdout",
     "output_type": "stream",
     "text": [
      "Enter the length of side a in cm. 4\n",
      "Enter the length of side b in cm. 4\n",
      "Enter the length of side c in cm. 4\n",
      "The area of the triangle is 6.93 cm.\n"
     ]
    }
   ],
   "source": [
    "# 22. Area of a Triangle (Again)\n",
    "\n",
    "a = int(input(\"Enter the length of side a in cm. \"))\n",
    "b = int(input(\"Enter the length of side b in cm. \"))\n",
    "c = int(input(\"Enter the length of side c in cm. \"))\n",
    "d = ((a + b + c) / 2)\n",
    "print(\"The area of the triangle is \" + str(round(math.sqrt(d * (d - a) * (d - b) * (d - c)),2)) + \" cm.\")"
   ]
  },
  {
   "cell_type": "code",
   "execution_count": 21,
   "metadata": {},
   "outputs": [
    {
     "name": "stdout",
     "output_type": "stream",
     "text": [
      "Enter the number of days. 4\n",
      "Enter the number of hours. 4\n",
      "Enter the number of minutes. 4\n",
      "Enter the number of seconds. 4\n",
      "The total time in seconds is 360244.\n"
     ]
    }
   ],
   "source": [
    "# 24. Units of Time\n",
    "\n",
    "days = int(input(\"Enter the number of days. \"))\n",
    "hours = int(input(\"Enter the number of hours. \"))\n",
    "mins = int(input(\"Enter the number of minutes. \"))\n",
    "secs = int(input(\"Enter the number of seconds. \"))\n",
    "print(\"The total time in seconds is \" + str((days * 86400) + (hours * 3600) + (mins * 60) + secs) + \".\")"
   ]
  },
  {
   "cell_type": "code",
   "execution_count": 22,
   "metadata": {},
   "outputs": [
    {
     "name": "stdout",
     "output_type": "stream",
     "text": [
      "Current date and time: \n",
      "2020-10-11 18:21:52\n"
     ]
    }
   ],
   "source": [
    "# 26. Current Time\n",
    "\n",
    "import datetime\n",
    "now = datetime.datetime.now()\n",
    "print(\"Current date and time: \")\n",
    "print(now.strftime(\"%Y-%m-%d %H:%M:%S\"))"
   ]
  },
  {
   "cell_type": "code",
   "execution_count": 23,
   "metadata": {},
   "outputs": [
    {
     "name": "stdout",
     "output_type": "stream",
     "text": [
      "Enter integer 1. 4\n",
      "Enter integer 2. 4\n",
      "Enter integer 3. 4\n",
      "The inputted numbers in ascending order are 4, 4, 4.\n"
     ]
    }
   ],
   "source": [
    "# 32. Sort Three Integers\n",
    "\n",
    "a = int(input(\"Enter integer 1. \"))\n",
    "b = int(input(\"Enter integer 2. \"))\n",
    "c = int(input(\"Enter integer 3. \"))\n",
    "d = (a + b + c) - max(a, b, c) - min(a, b, c)\n",
    "print(\"The inputted numbers in ascending order are \" + str(min(a,b,c)) + \", \" + str(d) + \", \" + str(max(a,b,c)) + \".\")"
   ]
  },
  {
   "cell_type": "code",
   "execution_count": 24,
   "metadata": {},
   "outputs": [
    {
     "name": "stdout",
     "output_type": "stream",
     "text": [
      "Enter number of loaves being purchased. 4\n",
      "The regular price for these loaves is $13.96. The discount applied is $8.38. The discounted price is $5.58.\n"
     ]
    }
   ],
   "source": [
    "# 33. Day Old Bread\n",
    "\n",
    "purchase_number = float(input(\"Enter number of loaves being purchased. \"))\n",
    "normal_price = (round(purchase_number * 3.49,2))\n",
    "discounted_price = (round(normal_price * 0.4,2))\n",
    "discount_amount = (round(normal_price - discounted_price,2))\n",
    "str_normal = \"{:.2f}\".format(normal_price)\n",
    "str_disc_price = \"{:.2f}\".format(discounted_price)\n",
    "str_disc_amount = \"{:.2f}\".format(discount_amount)\n",
    "print(\"The regular price for these loaves is $\" + str_normal + \". The discount applied is $\" + str_disc_amount + \". The discounted price is $\" + str_disc_price + \".\")"
   ]
  },
  {
   "cell_type": "code",
   "execution_count": 25,
   "metadata": {},
   "outputs": [
    {
     "name": "stdout",
     "output_type": "stream",
     "text": [
      "Enter integer. 4\n",
      "This number is even.\n"
     ]
    }
   ],
   "source": [
    "# 34. Even or Odd?\n",
    "\n",
    "a = int(input(\"Enter integer. \"))\n",
    "if a % 2 == 0:\n",
    "    print(\"This number is even.\")\n",
    "else:\n",
    "    print(\"This number is odd.\")\n",
    "        "
   ]
  },
  {
   "cell_type": "code",
   "execution_count": 26,
   "metadata": {},
   "outputs": [
    {
     "name": "stdout",
     "output_type": "stream",
     "text": [
      "Enter an age in human years. 4\n",
      "This age in dog years is 29.\n"
     ]
    }
   ],
   "source": [
    "# 35. Dog Years\n",
    "\n",
    "a = int(input(\"Enter an age in human years. \"))\n",
    "if a <= 2 and a >= 0:\n",
    "    print(\"This age in dog years is \" + str(a * 10.5) + \".\")\n",
    "elif a >2:\n",
    "    print(\"This age in dog years is \" + str(((a - 2) * 4) + 21) + \".\")\n",
    "else:\n",
    "    print(\"Cannot convert negative numbers to dog years.\")"
   ]
  },
  {
   "cell_type": "code",
   "execution_count": 27,
   "metadata": {},
   "outputs": [
    {
     "name": "stdout",
     "output_type": "stream",
     "text": [
      "Enter a lower-case letter. 4\n",
      "Invalid input. \n"
     ]
    }
   ],
   "source": [
    "# 36. Vowel or Consonant\n",
    "\n",
    "a = input(\"Enter a lower-case letter. \")\n",
    "if a in [\"a\",\"e\",\"i\", \"o\", \"u\"]:\n",
    "    print(\"This letter is a vowel. \")\n",
    "elif a == \"y\":\n",
    "    print(\"This letter is sometimes a vowel, sometimes a consonant. \")\n",
    "elif a in [\"b\", \"c\", \"d\", \"f\", \"g\", \"h\", \"j\", \"k\", \"l\", \"m\", \"n\", \"p\", \"q\", \"r\", \"s\", \"t\", \"v\", \"w\", \"x\", \"z\"]:\n",
    "    print(\"This letter is a consonant. \")\n",
    "else:\n",
    "    print(\"Invalid input. \")"
   ]
  },
  {
   "cell_type": "code",
   "execution_count": 28,
   "metadata": {},
   "outputs": [
    {
     "name": "stdout",
     "output_type": "stream",
     "text": [
      "Enter the number of sides. 4\n",
      "Quadrilateral. \n"
     ]
    }
   ],
   "source": [
    "# 37. Name that Shape\n",
    "\n",
    "a = int(input(\"Enter the number of sides. \"))\n",
    "if a == 3:\n",
    "    print(\"Triangle. \")\n",
    "elif a == 4:\n",
    "    print(\"Quadrilateral. \")\n",
    "elif a == 5:\n",
    "    print(\"Pentagon. \")\n",
    "elif a == 6:\n",
    "    print(\"Hexagon. \")\n",
    "elif a == 7:\n",
    "    print(\"Heptagon. \")\n",
    "elif a == 8:\n",
    "    print(\"Octagon. \")\n",
    "elif a == 9:\n",
    "    print(\"Nonagon. \")\n",
    "elif a == 10:\n",
    "    print(\"Decagon. \")\n",
    "else:\n",
    "    print(\"Invalid input. \")"
   ]
  },
  {
   "cell_type": "code",
   "execution_count": 29,
   "metadata": {},
   "outputs": [
    {
     "name": "stdout",
     "output_type": "stream",
     "text": [
      "Enter a month. April\n",
      "This month has 30 days.\n"
     ]
    }
   ],
   "source": [
    "# 38. Month Name to Number of Days\n",
    "\n",
    "a = input(\"Enter a month. \")\n",
    "if a in [\"January\", \"March\", \"May\", \"July\", \"August\", \"October\", \"December\"]:\n",
    "    print(\"This month has 31 days.\")\n",
    "elif a in [\"April\", \"June\", \"September\", \"November\"]:\n",
    "    print(\"This month has 30 days.\")\n",
    "elif a == \"February\":\n",
    "    print(\"This month has either 28 or 29 days.\")\n",
    "else:\n",
    "    print(\"Invalid input.\")"
   ]
  },
  {
   "cell_type": "code",
   "execution_count": 46,
   "metadata": {},
   "outputs": [
    {
     "name": "stdout",
     "output_type": "stream",
     "text": [
      "Enter the sound level in decibels. 1.1\n"
     ]
    },
    {
     "ename": "ValueError",
     "evalue": "invalid literal for int() with base 10: '1.1'",
     "output_type": "error",
     "traceback": [
      "\u001b[1;31m---------------------------------------------------------------------------\u001b[0m",
      "\u001b[1;31mValueError\u001b[0m                                Traceback (most recent call last)",
      "\u001b[1;32m<ipython-input-46-5b05f56a6849>\u001b[0m in \u001b[0;36m<module>\u001b[1;34m\u001b[0m\n\u001b[0;32m      1\u001b[0m \u001b[1;31m# 39. Sound Levels\u001b[0m\u001b[1;33m\u001b[0m\u001b[1;33m\u001b[0m\u001b[1;33m\u001b[0m\u001b[0m\n\u001b[0;32m      2\u001b[0m \u001b[1;33m\u001b[0m\u001b[0m\n\u001b[1;32m----> 3\u001b[1;33m \u001b[0ma\u001b[0m \u001b[1;33m=\u001b[0m \u001b[0mint\u001b[0m\u001b[1;33m(\u001b[0m\u001b[0minput\u001b[0m\u001b[1;33m(\u001b[0m\u001b[1;34m\"Enter the sound level in decibels. \"\u001b[0m\u001b[1;33m)\u001b[0m\u001b[1;33m)\u001b[0m\u001b[1;33m\u001b[0m\u001b[1;33m\u001b[0m\u001b[0m\n\u001b[0m\u001b[0;32m      4\u001b[0m \u001b[1;32mif\u001b[0m \u001b[0ma\u001b[0m \u001b[1;33m<\u001b[0m \u001b[1;36m40\u001b[0m\u001b[1;33m:\u001b[0m\u001b[1;33m\u001b[0m\u001b[1;33m\u001b[0m\u001b[0m\n\u001b[0;32m      5\u001b[0m     \u001b[0mprint\u001b[0m\u001b[1;33m(\u001b[0m\u001b[1;34m\"Very quiet. \"\u001b[0m\u001b[1;33m)\u001b[0m\u001b[1;33m\u001b[0m\u001b[1;33m\u001b[0m\u001b[0m\n",
      "\u001b[1;31mValueError\u001b[0m: invalid literal for int() with base 10: '1.1'"
     ]
    }
   ],
   "source": [
    "# 39. Sound Levels\n",
    "\n",
    "a = int(input(\"Enter the sound level in decibels. \"))\n",
    "if a < 40:\n",
    "    print(\"Very quiet. \")\n",
    "elif a == 40:\n",
    "    print(\"Quiet room. \")\n",
    "elif a > 40 and a < 70:\n",
    "    print(\"Between quiet room and alarm clock. \")\n",
    "elif a == 70:\n",
    "    print(\"Alarm clock. \")\n",
    "elif a > 70 and a < 106:\n",
    "    print(\"Between alarm clock and gas lawnmower. \")\n",
    "elif a == 106:\n",
    "    print(\"Gas lawnmower. \")\n",
    "elif a > 106 and a < 130:\n",
    "    print(\"Between gas lawnmower and jackhammer. \")\n",
    "elif a == 130:\n",
    "    print(\"Jackhammer. \")\n",
    "elif a > 130:\n",
    "    print(\"Very loud. \")\n",
    "else:\n",
    "    print(\"Invalid input. \")"
   ]
  },
  {
   "cell_type": "code",
   "execution_count": 54,
   "metadata": {},
   "outputs": [
    {
     "name": "stdout",
     "output_type": "stream",
     "text": [
      "Enter side 1 length. 2\n",
      "Enter side 2 length. 3\n",
      "Enter side 3 length. 1\n",
      "Scalene. \n"
     ]
    }
   ],
   "source": [
    "# 40. Name that Triangle\n",
    "\n",
    "a = int(input(\"Enter side 1 length. \"))\n",
    "b = int(input(\"Enter side 2 length. \"))\n",
    "c = int(input(\"Enter side 3 length. \"))\n",
    "if a == b and a == c:\n",
    "    print(\"Equilateral. \")\n",
    "elif a == b or a == c or c == b:\n",
    "    print(\"Isosceles. \")\n",
    "else:\n",
    "    print(\"Scalene. \")"
   ]
  },
  {
   "cell_type": "code",
   "execution_count": 63,
   "metadata": {},
   "outputs": [
    {
     "name": "stdout",
     "output_type": "stream",
     "text": [
      "Enter the denomination. 100\n",
      "Franklin\n"
     ]
    }
   ],
   "source": [
    "# 43. Faces on Money\n",
    "\n",
    "a = int(input(\"Enter the denomination. \"))\n",
    "if a == 1:\n",
    "    print(\"Washington\")\n",
    "elif a == 2:\n",
    "    print(\"Jefferson\")\n",
    "elif a == 5:\n",
    "    print(\"Lincoln\")\n",
    "elif a == 10:\n",
    "    print(\"Hamilton\")\n",
    "elif a == 20:\n",
    "    print(\"Jackson\")\n",
    "elif a == 50:\n",
    "    print(\"Grant\")\n",
    "elif a == 100:\n",
    "    print(\"Franklin\")\n",
    "else:\n",
    "    print(\"No notes of this denomination\")"
   ]
  },
  {
   "cell_type": "code",
   "execution_count": null,
   "metadata": {},
   "outputs": [],
   "source": [
    "# 44. Date to Holiday Name\n",
    "\n",
    "a = input(\"Enter the month. \")\n",
    "b = int(input(\"Enter the day. \"))\n",
    "if a == \"January\" and b == 1:\n",
    "    print(\"New Year's Day\")\n",
    "elif a == \"July\" and b == 1:\n",
    "    print(\"Canada Day\")\n",
    "elif a == \"December\" and b == 25:\n",
    "    print(\"Christmas Day\")\n",
    "else:\n",
    "    print(\"No fixed-date holidays on this date. \")"
   ]
  },
  {
   "cell_type": "code",
   "execution_count": 20,
   "metadata": {},
   "outputs": [
    {
     "name": "stdout",
     "output_type": "stream",
     "text": [
      "Enter your position. b3\n",
      "white\n"
     ]
    }
   ],
   "source": [
    "# 45. What Colour is that Square?\n",
    "\n",
    "a = str(input(\"Enter your position. \"))\n",
    "if a[0] in [\"a\", \"c\", \"e\", \"g\"] and a[1] in [\"1\",\"3\",\"5\",\"7\"]:\n",
    "    print(\"black\")\n",
    "elif a[0] in [\"a\", \"c\", \"e\", \"g\"] and a[1] in [\"2\",\"4\",\"6\",\"8\"]:\n",
    "    print(\"white\")\n",
    "elif a[0] in [\"b\", \"d\", \"f\", \"h\"] and a[1] in [\"1\",\"3\",\"5\",\"7\"]:\n",
    "    print(\"white\")\n",
    "elif a[0] in [\"b\", \"d\", \"f\", \"h\"] and a[1] in [\"2\",\"4\",\"6\",\"8\"]:\n",
    "    print(\"black\")\n",
    "else:\n",
    "    print(\"invalid entry\")"
   ]
  },
  {
   "cell_type": "code",
   "execution_count": 12,
   "metadata": {},
   "outputs": [
    {
     "name": "stdout",
     "output_type": "stream",
     "text": [
      "Enter the month. March\n",
      "Enter the day. 19\n",
      "Winter\n"
     ]
    }
   ],
   "source": [
    "# 46. Season from Month and Day\n",
    "\n",
    "a = input(\"Enter the month. \")\n",
    "b = int(input(\"Enter the day. \"))\n",
    "\n",
    "if (a == \"March\" and b >= 20) or (a in [\"April\", \"May\"]) or (a == \"June\" and b < 21):\n",
    "    print(\"Spring\")\n",
    "elif (a == \"June\" and b >= 21) or (a in [\"July\", \"August\"]) or (a == \"September\" and b < 22):\n",
    "    print(\"Summer\")\n",
    "elif (a == \"September\" and b >= 22) or (a in [\"October\", \"November\"]) or (a == \"December\" and b < 21):\n",
    "    print(\"Fall\")\n",
    "else:\n",
    "    print(\"Winter\")"
   ]
  },
  {
   "cell_type": "code",
   "execution_count": 28,
   "metadata": {},
   "outputs": [
    {
     "name": "stdout",
     "output_type": "stream",
     "text": [
      "Enter the month. July\n",
      "Enter the day. 4\n",
      "Cancer\n"
     ]
    }
   ],
   "source": [
    "# 46. Birth Date to Astrological Sign\n",
    "\n",
    "a = input(\"Enter the month. \")\n",
    "b = int(input(\"Enter the day. \"))\n",
    "\n",
    "if (a == \"December\" and b >= 22) or (a == \"January\" and b < 20):\n",
    "    print(\"Capricorn\")\n",
    "if (a == \"January\" and b >= 20) or (a == \"February\" and b < 19):\n",
    "    print(\"Aquarius\")\n",
    "if (a == \"February\" and b >= 19) or (a == \"March\" and b <= 20):\n",
    "    print(\"Pisces\")\n",
    "if (a == \"March\" and b >= 21) or (a == \"April\" and b < 20):\n",
    "    print(\"Aries\")\n",
    "if (a == \"April\" and b >= 20) or (a == \"May\" and b < 21):\n",
    "    print(\"Taurus\")\n",
    "if (a == \"May\" and b >= 21) or (a == \"June\" and b < 21):\n",
    "    print(\"Gemini\")\n",
    "if (a == \"June\" and b >= 21) or (a == \"July\" and b < 23):\n",
    "    print(\"Cancer\")\n",
    "if (a == \"July\" and b >= 23) or (a == \"August\" and b < 23):\n",
    "    print(\"Leo\")\n",
    "if (a == \"August\" and b >= 23) or (a == \"September\" and b < 23):\n",
    "    print(\"Virgo\")\n",
    "if (a == \"September\" and b >= 23) or (a == \"October\" and b < 23):\n",
    "    print(\"Libra\")\n",
    "if (a == \"October\" and b >= 23) or (a == \"November\" and b < 22):\n",
    "    print(\"Scorpio\")\n",
    "if (a == \"November\" and b >= 22) or (a == \"December\" and b < 22):\n",
    "    print(\"Sagittarius\")"
   ]
  },
  {
   "cell_type": "code",
   "execution_count": 55,
   "metadata": {},
   "outputs": [
    {
     "name": "stdout",
     "output_type": "stream",
     "text": [
      "Enter the year. 40\n",
      "Rat\n"
     ]
    }
   ],
   "source": [
    "a = int(input(\"Enter the year. \"))\n",
    "if a % 12 == 8:\n",
    "    print(\"Dragon\")\n",
    "elif a % 12 == 9:\n",
    "    print(\"Snake\")\n",
    "elif a % 12 == 10:\n",
    "    print(\"Horse\")\n",
    "elif a % 12 == 11:\n",
    "    print(\"Sheep\")\n",
    "elif a % 12 == 0:\n",
    "    print(\"Monkey\")\n",
    "elif a % 12 == 1:\n",
    "    print(\"Rooster\")\n",
    "elif a % 12 == 2:\n",
    "    print(\"Dog\")\n",
    "elif a % 12 == 3:\n",
    "    print(\"Pig\")\n",
    "elif a % 12 == 4:\n",
    "    print(\"Rat\")\n",
    "elif a % 12 == 5:\n",
    "    print(\"Ox\")\n",
    "elif a % 12 == 6:\n",
    "    print(\"Tiger\")\n",
    "elif a % 12 == 7:\n",
    "    print(\"Hare\")"
   ]
  },
  {
   "cell_type": "code",
   "execution_count": 11,
   "metadata": {},
   "outputs": [
    {
     "name": "stdout",
     "output_type": "stream",
     "text": [
      "Enter the magnitude. 6\n",
      "This magnitude is classed as strong on the Richter Scale.\n"
     ]
    }
   ],
   "source": [
    "# 49. Richter Scale\n",
    "\n",
    "a = float(input(\"Enter the magnitude. \"))\n",
    "if a < 2.0:\n",
    "    b = \"micro\"\n",
    "elif a < 3.0:\n",
    "    b = \"very minor\"\n",
    "elif a < 4.0:\n",
    "    b = \"minor\"\n",
    "elif a < 5.0:\n",
    "    b = \"light\"\n",
    "elif a < 6.0:\n",
    "    b = \"moderate\"\n",
    "elif a < 7.0:\n",
    "    b = \"strong\"\n",
    "elif a < 8.0:\n",
    "    b = \"major\"\n",
    "elif a < 10.0:\n",
    "    b = \"great\"\n",
    "elif a >= 10.0:\n",
    "    b = \"meteoric\"\n",
    "print(\"This magnitude is classed as \" + b + \" on the Richter Scale.\")"
   ]
  },
  {
   "cell_type": "code",
   "execution_count": 34,
   "metadata": {},
   "outputs": [
    {
     "name": "stdout",
     "output_type": "stream",
     "text": [
      "Enter the grade. F\n",
      "This grade is equivalent to 0 grade points.\n"
     ]
    }
   ],
   "source": [
    "# 51. Letter Grade to Grade Points\n",
    "\n",
    "a = input(\"Enter the grade. \")\n",
    "if a == \"A+\" or a == \"A\":\n",
    "    b = \"4.0\"\n",
    "elif a == \"A-\":\n",
    "    b = \"3.7\"\n",
    "elif a == \"B+\":\n",
    "    b = \"3.3\"\n",
    "elif a == \"B\":\n",
    "    b = \"3.0\"\n",
    "elif a == \"B-\":\n",
    "    b = \"2.7\"\n",
    "elif a == \"C+\":\n",
    "    b = \"2.3\"\n",
    "elif a == \"C\":\n",
    "    b = \"2.0\"\n",
    "elif a == \"C-\":\n",
    "    b = \"1.7\"\n",
    "elif a == \"D+\":\n",
    "    b = \"1.3\"\n",
    "elif a == \"D\":\n",
    "    b = \"1.0\"\n",
    "elif a == \"F\":\n",
    "    b = \"0\"\n",
    "\n",
    "grade_list = [\"A+\", \"A\", \"A-\", \"B+\", \"B\", \"B-\",\"C+\", \"C\", \"C-\",\"D+\", \"D\", \"F\"]\n",
    "    \n",
    "if a in grade_list:\n",
    "    print(\"This grade is equivalent to \" + b + \" grade points.\")\n",
    "else:\n",
    "    print(\"Invalid grade entered. \")\n"
   ]
  },
  {
   "cell_type": "code",
   "execution_count": 45,
   "metadata": {},
   "outputs": [
    {
     "name": "stdout",
     "output_type": "stream",
     "text": [
      "Enter the grade points. 0.1\n",
      "These grade points are equivalent to a grade of F.\n"
     ]
    }
   ],
   "source": [
    "# 52. Grade Points to Letter Grade\n",
    "\n",
    "a = float(input(\"Enter the grade points. \"))\n",
    "\n",
    "if a >= 3.85:\n",
    "    b = \"A+\"\n",
    "elif a >= 3.5:\n",
    "    b = \"A\"\n",
    "elif a >= 3.15:\n",
    "    b = \"B+\"\n",
    "elif a >= 2.85:\n",
    "    b = \"B\"\n",
    "elif a >= 2.5:\n",
    "    b = \"B-\"\n",
    "elif a >= 2.15:\n",
    "    b = \"C+\"\n",
    "elif a >= 1.85:\n",
    "    b = \"C\"\n",
    "elif a >= 1.5:\n",
    "    b = \"C-\"\n",
    "elif a >= 1.15:\n",
    "    b = \"D+\"\n",
    "elif a >= 1.0:\n",
    "    b = \"D\"\n",
    "elif a < 1.0:\n",
    "    b = \"F\"\n",
    "\n",
    "if a >= 0 and a <= 4.0:\n",
    "    print(\"These grade points are equivalent to a grade of \" + b + \".\")\n",
    "else:\n",
    "    print(\"Invalid grade points entered.\")"
   ]
  },
  {
   "cell_type": "code",
   "execution_count": 57,
   "metadata": {},
   "outputs": [
    {
     "name": "stdout",
     "output_type": "stream",
     "text": [
      "Enter the value awarded. 0.5\n",
      "Invalid rating entered.\n"
     ]
    }
   ],
   "source": [
    "# 53. Assessing Employees\n",
    "\n",
    "a = float(input(\"Enter the value awarded. \"))\n",
    "\n",
    "if a == 0.0:\n",
    "    b = \"Unacceptable performance. \"\n",
    "if a == 0.4:\n",
    "    b = \"Acceptable performance. \"\n",
    "if a >= 0.6:\n",
    "    b = \"Meritorious performance. \"\n",
    "\n",
    "if a == 0.0 or a == 0.4 or a >= 0.6:\n",
    "    print(b + \"The bonus awarded is $\" + str(round(a * 2400)) + \".\")\n",
    "else:\n",
    "    print(\"Invalid rating entered.\")"
   ]
  },
  {
   "cell_type": "code",
   "execution_count": 96,
   "metadata": {},
   "outputs": [
    {
     "name": "stdout",
     "output_type": "stream",
     "text": [
      "Enter the number of minutes used. 54\n",
      "Enter the number of text messages used. 54\n",
      "Base charge is $15.00. Additional minutes charge is $1.00. Additional texts charge is $0.60. 911 fee is $0.44. 5% sales tax is $0.85. Total bill is $17.89.\n"
     ]
    }
   ],
   "source": [
    "# 56. Cellphone Bill\n",
    "\n",
    "a = int(input(\"Enter the number of minutes used. \"))\n",
    "b = int(input(\"Enter the number of text messages used. \"))\n",
    "\n",
    "if a > 50:\n",
    "    c = (a - 50) * 0.25\n",
    "    mins = (\"Additional minutes charge is $\" + \"{:.2f}\".format(c) + \". \")\n",
    "if b > 50:\n",
    "    d = (b - 50) * 0.15\n",
    "    texts = (\"Additional texts charge is $\" + \"{:.2f}\".format(d) + \". \")\n",
    "if a <= 50:\n",
    "    mins = \"\"\n",
    "if b <= 50:\n",
    "    texts = \"\"\n",
    "    \n",
    "    \n",
    "e = 0.44\n",
    "\n",
    "f = (15.00 + c + d + e) * 1.05\n",
    "\n",
    "g = (f - (15.00 + c + d + e))\n",
    "\n",
    "print(\"Base charge is $15.00. \"\n",
    "      + mins \n",
    "      + texts \n",
    "      + \"911 fee is $0.44. \" \n",
    "      + \"5% sales tax is $\" \n",
    "      + \"{:.2f}\".format(g) \n",
    "      + \". Total bill is $\" \n",
    "      + \"{:.2f}\".format(f) \n",
    "      + \".\")"
   ]
  },
  {
   "cell_type": "code",
   "execution_count": 126,
   "metadata": {},
   "outputs": [
    {
     "name": "stdout",
     "output_type": "stream",
     "text": [
      "Enter a year. 56\n",
      "This is a leap year. \n"
     ]
    }
   ],
   "source": [
    "# 57. Is it a leap year?\n",
    "\n",
    "a = int(input(\"Enter a year. \"))\n",
    "\n",
    "if a % 400 == 0:\n",
    "    b = \"This is a leap year. \"\n",
    "elif a % 400 != 0 and a % 100 == 0:\n",
    "    b = \"This is not a leap year. \"\n",
    "elif a % 400 != 0 and a % 100 != 0 and a % 4 == 0:\n",
    "    b = \"This is a leap year. \"\n",
    "else:\n",
    "    b = \"This is not a leap year. \"\n",
    "\n",
    "print(b)"
   ]
  },
  {
   "cell_type": "code",
   "execution_count": 57,
   "metadata": {},
   "outputs": [
    {
     "name": "stdout",
     "output_type": "stream",
     "text": [
      "Enter the year. 2300\n",
      "Enter the month. 2\n",
      "Enter the day. 28\n",
      "2300-3-1\n"
     ]
    }
   ],
   "source": [
    "# 58. Next Day\n",
    "\n",
    "year = int(input(\"Enter the year. \"))\n",
    "month = int(input(\"Enter the month. \"))\n",
    "day = int(input(\"Enter the day. \"))\n",
    "\n",
    "if month in [1, 3, 5, 7, 8, 10, 12] and day < 31:\n",
    "    new_day = day + 1\n",
    "    new_month = month\n",
    "    new_year = year\n",
    "elif month in [1, 3, 5, 7, 8, 10] and day == 31:\n",
    "    new_day = 1\n",
    "    new_month = month + 1\n",
    "    new_year = year\n",
    "elif month == 12 and day == 31:\n",
    "    new_day = 1\n",
    "    new_month = 1\n",
    "    new_year = year + 1\n",
    "elif month in [4, 6, 9, 11] and day < 30:\n",
    "    new_day = day + 1\n",
    "    new_month = month\n",
    "    new_year = year\n",
    "elif month in [4, 6, 9, 11] and day == 30:\n",
    "    new_day = 1\n",
    "    new_month = month + 1\n",
    "    new_year = year\n",
    "elif month == 2 and day < 28:\n",
    "    new_day = day + 1\n",
    "    new_month = month\n",
    "    new_year = year\n",
    "elif (year % 400 == 0 or (year % 100 != 0 and year % 4 == 0)) and month == 2 and day == 28:\n",
    "    new_day = day + 1\n",
    "    new_month = month\n",
    "    new_year = year\n",
    "elif month == 2 and day == 28:\n",
    "    new_month = 3\n",
    "    new_year = year\n",
    "    new_day = 1\n",
    "print(str(new_year) + \"-\" + str(new_month) + \"-\" + str(new_day))"
   ]
  },
  {
   "cell_type": "code",
   "execution_count": 12,
   "metadata": {},
   "outputs": [
    {
     "name": "stdout",
     "output_type": "stream",
     "text": [
      "Enter the license plate number. ABC123\n",
      "This is an old style license plate.\n"
     ]
    }
   ],
   "source": [
    "# 59. Is a License Plate Valid?\n",
    "\n",
    "a = str(input(\"Enter the license plate number. \"))\n",
    "\n",
    "if len(a) == 7 and a[0:4].isnumeric() and a[4:6].isalpha() and a[4:6].isupper():\n",
    "    print(\"This is a new style license plate.\")\n",
    "elif len(a) == 6 and a[0:3].isalpha() and a[0:3].isupper() and a[3:5].isnumeric():\n",
    "    print(\"This is an old style license plate.\")\n",
    "else:\n",
    "    print(\"Invalid input.\")"
   ]
  },
  {
   "cell_type": "code",
   "execution_count": 458,
   "metadata": {},
   "outputs": [
    {
     "name": "stdout",
     "output_type": "stream",
     "text": [
      "The spin resulted in 00\n",
      "Pay 00\n"
     ]
    }
   ],
   "source": [
    "# 60. Roulette Payouts\n",
    "\n",
    "import random\n",
    "\n",
    "def roulette():\n",
    "    x = random.randint(0,37)\n",
    "    if x >= 0 and x < 37:\n",
    "        print(\"The spin resulted in \" + str(x))\n",
    "    if x == 37:\n",
    "        print(\"The spin resulted in 00\")\n",
    "        print(\"Pay 00\")\n",
    "    if x == 0:\n",
    "        print(\"Pay 0\")\n",
    "    if x >= 1 and x < 37:\n",
    "        print(\"Pay \" + str(x))\n",
    "    if x in [1,3,5,7,9,12,14,16,18,19,21,23,25,27,30,32,34,36]:\n",
    "        print(\"Pay Red\")\n",
    "    if x in [2,4,6,8,10,11,13,15,17,20,22,24,26,28,29,31,33,35]:\n",
    "        print(\"Pay Black\")\n",
    "    if x % 2 == 0 and x >1:\n",
    "        print(\"Pay Even\")\n",
    "    if x % 2 != 0 and x < 37:\n",
    "        print(\"Pay Odd\")\n",
    "    if x > 0 and x < 19:\n",
    "        print(\"Pay 1 to 18\")\n",
    "    if x > 18 and x < 37:\n",
    "        print(\"Pay 19 to 36\")\n",
    "\n",
    "roulette()"
   ]
  },
  {
   "cell_type": "code",
   "execution_count": 8,
   "metadata": {},
   "outputs": [
    {
     "name": "stdout",
     "output_type": "stream",
     "text": [
      "Original item price: 4.95\n",
      "Discount amount: 2.97\n",
      "New item price: 1.98\n",
      "\n",
      "Original item price: 9.95\n",
      "Discount amount: 5.97\n",
      "New item price: 3.98\n",
      "\n",
      "Original item price: 14.95\n",
      "Discount amount: 8.97\n",
      "New item price: 5.98\n",
      "\n",
      "Original item price: 19.95\n",
      "Discount amount: 11.97\n",
      "New item price: 7.98\n",
      "\n",
      "Original item price: 24.95\n",
      "Discount amount: 14.97\n",
      "New item price: 9.98\n",
      "\n"
     ]
    }
   ],
   "source": [
    "# 62. Discount Table\n",
    "\n",
    "price_list = [4.95, 9.95, 14.95, 19.95, 24.95]\n",
    "\n",
    "for x in price_list:\n",
    "    print(\"Original item price: \" + \"{:.2f}\".format(x))\n",
    "    print(\"Discount amount: \" + \"{:.2f}\".format(x * 0.6))\n",
    "    print(\"New item price: \" + \"{:.2f}\".format(x - (x * 0.6)))\n",
    "    print(\"\")\n",
    "    \n"
   ]
  },
  {
   "cell_type": "code",
   "execution_count": 28,
   "metadata": {},
   "outputs": [
    {
     "name": "stdout",
     "output_type": "stream",
     "text": [
      "0 degrees celsius is equivalent to 32 degrees fahrenheit.\n",
      "10 degrees celsius is equivalent to 50 degrees fahrenheit.\n",
      "20 degrees celsius is equivalent to 68 degrees fahrenheit.\n",
      "30 degrees celsius is equivalent to 86 degrees fahrenheit.\n",
      "40 degrees celsius is equivalent to 104 degrees fahrenheit.\n",
      "50 degrees celsius is equivalent to 122 degrees fahrenheit.\n",
      "60 degrees celsius is equivalent to 140 degrees fahrenheit.\n",
      "70 degrees celsius is equivalent to 158 degrees fahrenheit.\n",
      "80 degrees celsius is equivalent to 176 degrees fahrenheit.\n",
      "90 degrees celsius is equivalent to 194 degrees fahrenheit.\n",
      "100 degrees celsius is equivalent to 212 degrees fahrenheit.\n"
     ]
    }
   ],
   "source": [
    "# 63. Temperature Conversion Table\n",
    "\n",
    "def cels_fahr():\n",
    "\n",
    "    new_list = []\n",
    "\n",
    "    for x in range(101):\n",
    "        if x % 10 == 0:\n",
    "            new_list.append(x)\n",
    "\n",
    "    for z in new_list:\n",
    "        print(str(z) + \" degrees celsius is equivalent to \" + str(round(z * 9/5 + 32)) + \" degrees fahrenheit.\")\n",
    "\n",
    "cels_fahr()"
   ]
  },
  {
   "cell_type": "code",
   "execution_count": 47,
   "metadata": {},
   "outputs": [
    {
     "name": "stdout",
     "output_type": "stream",
     "text": [
      "Enter grade. A\n",
      "Enter grade. B\n",
      "Enter grade. C\n",
      "Enter grade. \n",
      "Your GPA is 3.0.\n"
     ]
    }
   ],
   "source": [
    "# 66. Compute a Grade Point Average\n",
    "\n",
    "def gpa_function():\n",
    "    x = 0\n",
    "    total = 0.0\n",
    "    b = 0.0\n",
    "    count = 0\n",
    "    while x != \"\":\n",
    "        x = input(\"Enter grade. \")\n",
    "        total = total + b\n",
    "        if x == \"A+\" or x == \"A\":\n",
    "            b = 4.0\n",
    "        elif x == \"A-\":\n",
    "            b = 3.7\n",
    "        elif x == \"B+\":\n",
    "            b = 3.3\n",
    "        elif x == \"B\":\n",
    "            b = 3.0\n",
    "        elif x == \"B-\":\n",
    "            b = 2.7\n",
    "        elif x == \"C+\":\n",
    "            b = 2.3\n",
    "        elif x == \"C\":\n",
    "            b = 2.0\n",
    "        elif x == \"C-\":\n",
    "            b = 1.7\n",
    "        elif x == \"D+\":\n",
    "            b = 1.3\n",
    "        elif x == \"D\":\n",
    "            b = 1.0\n",
    "        elif x == \"F\":\n",
    "            b = 0\n",
    "        count += 1\n",
    "    count = count -1\n",
    "    gpa = total / count\n",
    "    print(\"Your GPA is \" + str(gpa) + \".\")\n",
    "\n",
    "gpa_function()"
   ]
  },
  {
   "cell_type": "code",
   "execution_count": 10,
   "metadata": {},
   "outputs": [
    {
     "name": "stdout",
     "output_type": "stream",
     "text": [
      "Enter age of guest. 2\n",
      "Enter age of guest. 3\n",
      "Enter age of guest. 45\n",
      "Enter age of guest. \n",
      "The cost for the entire group is $37.00.\n"
     ]
    }
   ],
   "source": [
    "# 67. Admission Price\n",
    "\n",
    "def zoo():\n",
    "    x = 0\n",
    "    total = 0.0\n",
    "    z = 0\n",
    "    while x != \"\":\n",
    "        x = input(\"Enter age of guest. \")\n",
    "        total = total + z\n",
    "        if x != \"\":\n",
    "            x = int(x)\n",
    "            if x < 3:\n",
    "                z = 0\n",
    "            elif x < 13:\n",
    "                z = 14\n",
    "            elif x < 65:\n",
    "                z = 23\n",
    "            else:\n",
    "                z = 18\n",
    "    print(\"The cost for the entire group is $\" + \"{:.2f}\".format(total) + \".\")\n",
    "    \n",
    "zoo()"
   ]
  }
 ],
 "metadata": {
  "kernelspec": {
   "display_name": "Python 3",
   "language": "python",
   "name": "python3"
  }
 },
 "nbformat": 4,
 "nbformat_minor": 2
}
